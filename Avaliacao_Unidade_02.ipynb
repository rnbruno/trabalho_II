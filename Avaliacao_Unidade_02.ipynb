{
 "cells": [
  {
   "cell_type": "markdown",
   "metadata": {},
   "source": [
    "Avaliação - Unidade 02\n",
    "==="
   ]
  },
  {
   "cell_type": "markdown",
   "metadata": {},
   "source": [
    "Identificação dos alunos (nome completo):\n",
    "\n",
    "\n",
    "\n",
    "**Bruno Silvino Matias**\n",
    "\n",
    "- Este trabalho irá compor 60% da segunda unidade\n",
    "- Grupo de até dois alunos\n",
    "- Os alunos deverão enviar (apenas um por grupo) através do Sigaa, o notebook e os datasets gerados na avaliação em um arquivo compactado (.zip)\n",
    "- Todas as respostas devem ser realizadas através de código python e os resultados explicados em estilo markdown\n",
    "- As informações (datasets) necessárias para resolução dos problemas podem ser encontradas em http://dados.ufrn.br/group/ensino\n"
   ]
  },
  {
   "cell_type": "code",
   "execution_count": 1,
   "metadata": {},
   "outputs": [],
   "source": [
    "import matplotlib.pyplot as plt\n",
    "import numpy as np\n",
    "import pandas as pd\n",
    "import seaborn as sns\n",
    "from scipy import stats\n",
    "\n",
    "%matplotlib inline\n",
    "\n",
    "turmas = pd.read_csv('turmas-2017.1.csv', sep=';')\n",
    "matriculas = pd.read_csv('matricula-componente-20171.csv', sep=';')\n",
    "componentes = pd.read_csv('componentes-curriculares-presenciais.csv', sep=';')\n",
    "\n",
    "#df = turmas[(turmas['codigo'].str.contains('IMD'))\n",
    "         # & (turmas['situacao_turma'] == 'CONSOLIDADA')]"
   ]
  },
  {
   "cell_type": "code",
   "execution_count": null,
   "metadata": {},
   "outputs": [],
   "source": [
    "# Variáveis Centrais\n",
    "média = sum(wing_lengths) / len(wing_lengths)\n",
    "variances = [(i - mean) ** 2 for i in wing_lengths]\n",
    "variance = sum(variances)/ len(variances)\n",
    "standard_deviation = variance ** (1/2)"
   ]
  },
  {
   "cell_type": "markdown",
   "metadata": {},
   "source": [
    "<h3>I Criar gráfico Z-score com área verde:</h3>"
   ]
  },
  {
   "cell_type": "markdown",
   "metadata": {},
   "source": [
    "O Z-Score mede o quanto a medida se afasta da média em em referencia ao <i>Desvio Padrão</i>. <b>Z-Score +<b> os valores estão acima da média. <b>Z-Score -</b>os valores estão abaixo da média. Os Valores oscilam entre -3 e 3 o qu representa 99,72% da área total da curva de Distribuição da Normal.\n",
    "    "
   ]
  },
  {
   "cell_type": "markdown",
   "metadata": {},
   "source": [
    "<h4>Calculando o Z-Score: Amostra/ou/população (Valor de dados -Média da amostra/ou/população)/Desvio Padrão. \n",
    "</h4>"
   ]
  },
  {
   "cell_type": "code",
   "execution_count": 3,
   "metadata": {},
   "outputs": [],
   "source": [
    "x1 = 5\n",
    "x2 = 7\n",
    "x3 = 9"
   ]
  },
  {
   "cell_type": "markdown",
   "metadata": {},
   "source": [
    "<h4 style=\"color:Tomato; \">Valores para teste estão abaixo. </h4>\n",
    "<h5 style=\"color:darkblue\">x1 para nota 5 <br>\n",
    "x2 para nota 7 <br>\n",
    "e x3 para nota 9\n",
    "</h5>"
   ]
  },
  {
   "cell_type": "code",
   "execution_count": null,
   "metadata": {},
   "outputs": [],
   "source": [
    "%pylab inline\n",
    "pylab.rcParams['figure.figsize'] = (10, 8)"
   ]
  },
  {
   "cell_type": "markdown",
   "metadata": {},
   "source": [
    "a)Notas da 1ª unidade (FMC1, FMC2, Probabilidade)"
   ]
  },
  {
   "cell_type": "code",
   "execution_count": null,
   "metadata": {},
   "outputs": [],
   "source": [
    "turmas_imd033"
   ]
  },
  {
   "cell_type": "code",
   "execution_count": 7,
   "metadata": {},
   "outputs": [
    {
     "name": "stdout",
     "output_type": "stream",
     "text": [
      "Populating the interactive namespace from numpy and matplotlib\n"
     ]
    }
   ],
   "source": [
    "media_uni_1 = sum()/ len ()"
   ]
  },
  {
   "cell_type": "markdown",
   "metadata": {},
   "source": [
    "b)Notas da 2ª unidade (FMC1, FMC2, Probabilidade)"
   ]
  },
  {
   "cell_type": "markdown",
   "metadata": {},
   "source": [
    "c)Notas da 3ª unidade (FMC1, FMC2, Probabilidade)"
   ]
  },
  {
   "cell_type": "markdown",
   "metadata": {},
   "source": [
    "d) Média das unidades (FMC1, FMC2, Probabilidade)"
   ]
  },
  {
   "cell_type": "markdown",
   "metadata": {},
   "source": [
    "<h3>II Criar gráfico: eixo X são as médias dos alunos - FMC I - e eixo Y médias dos alunos - FMC2 </h3>.\n",
    "Toda série histórica."
   ]
  },
  {
   "cell_type": "markdown",
   "metadata": {},
   "source": [
    "### Método\n",
    "\n",
    "Dado que filtramos as disciplinas consolidadas do IMD, bastou pegar o nome de cada. E para o número de turmas, pegamos o tamanho da série contendo os ids das turmas (sem repetições)"
   ]
  },
  {
   "cell_type": "code",
   "execution_count": 2,
   "metadata": {
    "scrolled": false
   },
   "outputs": [
    {
     "name": "stdout",
     "output_type": "stream",
     "text": [
      "['RESOLUCAO DE PROBLEMAS MATEMATICOS PARA TI'\n",
      " 'PRATICAS DE LEITURA E ESCRITA EM PORTUGUES I'\n",
      " 'PRATICAS DE LEITURA EM INGLES' 'TECNOLOGIA DA INFORMACAO E SOCIEDADE'\n",
      " 'INTRODUCAO AS TECNICAS DE PROGRAMACAO'\n",
      " 'PRATICAS DE TECNICAS DE PROGRAMACAO' 'CALCULO DIFERENCIAL E INTEGRAL I'\n",
      " 'PRATICAS DE LEITURA E ESCRITA EM PORTUGUES II'\n",
      " 'FUNDAMENTOS MATEMATICOS DA COMPUTACAO I' 'VETORES E GEOMETRIA ANALITICA'\n",
      " 'ESTRUTURA DE DADOS BASICAS I' 'LINGUAGEM DE PROGRAMACAO I'\n",
      " 'PROBABILIDADE' 'FUNDAMENTOS MATEMATICOS DA COMPUTACAO II'\n",
      " 'ESTRUTURAS DE DADOS BASICAS II' 'LINGUAGEM DE PROGRAMACAO II'\n",
      " 'INTRODUCAO A ORGANIZACAO E ARQUITETURA DE COMPUTADORES'\n",
      " 'TOPICOS ESPECIAIS EM TECNOLOGIA DA INFORMACAO VI'\n",
      " 'SISTEMAS EMBARCADOS DE TEMPO REAL' 'TEORIA DE CIRCUITOS ELETRICOS'\n",
      " 'SISTEMAS DIGITAIS RECONFIGURAVEIS'\n",
      " 'METODOLOGIAS DE PROJETOS EM SISTEMAS EMBARCADOS' 'PROJETO INTEGRADO I'\n",
      " 'TECNICAS DE PROTOTIPACAO E MONTAGEM DE CIRCUITOS E SISTEMAS ELETRONICOS'\n",
      " 'PROGRAMACAO COM BANCO DE DADOS' 'FUNDAMENTOS DE SISTEMAS DE INFORMACAO'\n",
      " 'PROCESSOS DE SOFTWARE' 'DESENVOLVIMENTO DE SISTEMAS WEB II'\n",
      " 'SISTEMA DE INFORMACAO DISTRIBUIDO' 'GESTAO DE INFRAESTRUTURA DE TI'\n",
      " 'DESIGN DE SOFTWARE I' 'DESIGN DA INTERACAO HUMANO-COMPUTADOR'\n",
      " 'SISTEMAS COLABORATIVOS DE APOIO A APRENDIZAGEM'\n",
      " 'AVALIACAO DA INTERACAO HUMANO-COMPUTADOR'\n",
      " 'FUNDAMENTOS PEDAGOGICOS PARA A INFORMATICA EDUCACIONAL I'\n",
      " 'EDUCACAO A DISTANCIA' 'ADMINISTRACAO DE SISTEMAS OPERACIONAIS PARA REDES'\n",
      " 'PRINCIPIOS DE LEGISLACAO APLICAVEIS A TECNOLOGIA DA INFORMACAO E COMUNICACAO DE DADOS'\n",
      " 'PROJETO DE INOVACAO TECNOLOGICA' 'FUNDAMENTOS DE JOGOS DIGITAIS'\n",
      " 'REDES DE COMPUTADORES' 'TOPICOS ESPECIAIS EM TECNOLOGIA DA INFORMACAO XI'\n",
      " 'PROJETO INTEGRADOR DE REDES I'\n",
      " 'DESENVOLVIMENTO DE PROJETOS DE REDES DE COMPUTADORES'\n",
      " 'TOPICOS ESPECIAIS EM REDES DE COMPUTADORES B\"'\n",
      " 'TECNOLOGIAS DE COMUNICACAO DE DADOS' 'PROGRAMACAO EM HARDWARE DE REDES'\n",
      " 'ARMAZENAMENTO DE BIG DATA' 'APRENDIZAGEM DE MAQUINA PARA BIG DATA'\n",
      " 'PROGRAMACAO CIENTIFICA PARA BIG DATA'\n",
      " 'TOPICOS AVANCADOS EM COMPUTACAO MOVEL II'\n",
      " 'ANALISE ESTATISTICA PARA BIG DATA' 'MINERACAO DE DADOS']\n",
      "93\n"
     ]
    }
   ],
   "source": [
    "# Questao 1\n",
    "\n",
    "nomes_disciplinas = df['nome_ascii'].unique()\n",
    "print(nomes_disciplinas)\n",
    "print(df['id_turma'].unique().size)"
   ]
  },
  {
   "cell_type": "markdown",
   "metadata": {},
   "source": [
    "Explicação\n",
    "===\n",
    "Ambas as turmas possuem curtose proxima a zero, o que explica a distribuicao um tanto constante dos valores. Porém a primeira possui obliquidade negativa, demonstrada pela cauda esquerda.\n",
    "\n",
    "### Método\n",
    "Pegamos todos os ids das turmas para a disciplina de Probabilidade (código IMD0033), e pegamos os alunos matriculados nessas turmas e que possuem média final."
   ]
  },
  {
   "cell_type": "code",
   "execution_count": 3,
   "metadata": {},
   "outputs": [
    {
     "data": {
      "image/png": "[encoded data removed]",
      "text/plain": [
       "<matplotlib.figure.Figure at 0x7fabc441f320>"
      ]
     },
     "metadata": {},
     "output_type": "display_data"
    }
   ],
   "source": [
    "# Questao 2\n",
    "\n",
    "turmas_imd0033 = df['id_turma'][\n",
    "    df['codigo'] == 'IMD0033'].unique()\n",
    "\n",
    "alunos_prob = matriculas[\n",
    "    (matriculas['id_turma'].isin(turmas_imd0033))\n",
    "    & (matriculas['situacao'] != 'CANCELADO')\n",
    "    ].drop_duplicates('id_discente').dropna(subset=['media_final'])\n",
    "\n",
    "turmas_prob_curtose = [stats.kurtosis(alunos_prob['media_final'][\n",
    "    alunos_prob['id_turma'] == turma]\n",
    "    ) for turma in turmas_imd0033]\n",
    "\n",
    "turmas_prob_obliquidade = [stats.skew(alunos_prob['media_final'][\n",
    "    alunos_prob['id_turma'] == turma]\n",
    "    ) for turma in turmas_imd0033]\n",
    "\n",
    "fig, (ax1, ax2) = plt.subplots(nrows=1, ncols=2)\n",
    "ax1.set_title('M12 (curtose = '\n",
    "              + str(format(turmas_prob_curtose[0], '.2f'))\n",
    "              + ')')\n",
    "ax2.set_title('N34 (curtose = '\n",
    "              + str(format(turmas_prob_curtose[1], '.2f'))\n",
    "              + ')')\n",
    "\n",
    "sns.distplot(alunos_prob['media_final'][\n",
    "    alunos_prob['id_turma'] == turmas_imd0033[0]],\n",
    "             kde=False,\n",
    "             ax=ax1,\n",
    "             bins=20)\n",
    "sns.distplot(alunos_prob['media_final'][\n",
    "    alunos_prob['id_turma'] == turmas_imd0033[1]],\n",
    "             kde=False,\n",
    "             ax=ax2,\n",
    "             bins=20)\n",
    "\n",
    "plt.show()\n",
    "\n",
    "turmas_prob_obliquidade\n",
    "\n",
    "pd.DataFrame(alunos_prob).to_csv('dataset_questao2')"
   ]
  },
  {
   "cell_type": "markdown",
   "metadata": {},
   "source": [
    "### Método\n",
    "Similar ao utilizado na questão anterior mas para a disciplina de código IMD0030. Então para cada turma e para cada situação dos alunos, o seaborn nos gera um gráfico."
   ]
  },
  {
   "cell_type": "code",
   "execution_count": 4,
   "metadata": {
    "scrolled": false
   },
   "outputs": [
    {
     "data": {
      "image/png": "[encoded data removed]",
      "text/plain": [
       "<matplotlib.figure.Figure at 0x7fabc4429a90>"
      ]
     },
     "metadata": {},
     "output_type": "display_data"
    }
   ],
   "source": [
    "# Questao 3\n",
    "\n",
    "turmas_imd0030 = df['id_turma'][\n",
    "    df['codigo'] == 'IMD0030'].unique()\n",
    "\n",
    "alunos_lp = matriculas[\n",
    "    (matriculas['id_turma'].isin(turmas_imd0030))\n",
    "    & (matriculas['situacao'] != 'CANCELADO')\n",
    "    ].drop_duplicates('id_discente').dropna(subset=['media_final'])\n",
    "\n",
    "g = sns.FacetGrid(alunos_lp, col='id_turma', row='situacao', margin_titles=True)\n",
    "g.map(sns.distplot, 'media_final', kde=False, bins=20)\n",
    "plt.show()"
   ]
  },
  {
   "cell_type": "markdown",
   "metadata": {},
   "source": [
    "### Método\n",
    "\n",
    "Similar ao utilizado na questão anterior mas para a disciplina de código IMD0029. Geramos os gráficos para cada turma e marcamos suas médias e medianas."
   ]
  },
  {
   "cell_type": "code",
   "execution_count": 5,
   "metadata": {},
   "outputs": [
    {
     "data": {
      "image/png": "[encoded data removed]",
      "text/plain": [
       "<matplotlib.figure.Figure at 0x7fabc6015f98>"
      ]
     },
     "metadata": {},
     "output_type": "display_data"
    }
   ],
   "source": [
    "# Questao 4\n",
    "\n",
    "turmas_imd0029 = df['id_turma'][\n",
    "    df['codigo'] == 'IMD0029'].unique()\n",
    "\n",
    "alunos_edb = matriculas[\n",
    "    (matriculas['id_turma'].isin(turmas_imd0029))\n",
    "    & (matriculas['situacao'] != 'CANCELADO')\n",
    "    ].drop_duplicates('id_discente').dropna(subset=['media_final'])\n",
    "\n",
    "medias_edb = [np.mean(alunos_edb['media_final'][\n",
    "    alunos_edb['id_turma'] == turma]\n",
    "    ) for turma in turmas_imd0029]\n",
    "\n",
    "medianas_edb = [np.median(alunos_edb['media_final'][\n",
    "    alunos_edb['id_turma'] == turma]\n",
    "    ) for turma in turmas_imd0029]\n",
    "\n",
    "fig, (ax1, ax2, ax3, ax4) = plt.subplots(figsize=(16, 5), ncols=4, nrows=1)\n",
    "ax1.set_title('M12')\n",
    "ax2.set_title('T34')\n",
    "ax3.set_title('N12')\n",
    "ax4.set_title('N34')\n",
    "\n",
    "sns.distplot(alunos_edb['media_final'][\n",
    "    alunos_edb['id_turma'] == turmas_imd0029[0]],\n",
    "             kde=False,\n",
    "             ax=ax1,\n",
    "             bins=20)\n",
    "sns.distplot(alunos_edb['media_final'][\n",
    "    alunos_edb['id_turma'] == turmas_imd0029[1]],\n",
    "             kde=False,\n",
    "             ax=ax2,\n",
    "             bins=20)\n",
    "sns.distplot(alunos_edb['media_final'][\n",
    "    alunos_edb['id_turma'] == turmas_imd0029[2]],\n",
    "             kde=False,\n",
    "             ax=ax3,\n",
    "             bins=20)\n",
    "sns.distplot(alunos_edb['media_final'][\n",
    "    alunos_edb['id_turma'] == turmas_imd0029[3]],\n",
    "             kde=False,\n",
    "             ax=ax4,\n",
    "             bins=20)\n",
    "\n",
    "ax1.axvline(medias_edb[0], color=\"r\")\n",
    "ax2.axvline(medias_edb[1], color=\"r\")\n",
    "ax3.axvline(medias_edb[2], color=\"r\")\n",
    "ax4.axvline(medias_edb[3], color=\"r\")\n",
    "\n",
    "ax1.axvline(medianas_edb[0], color=\"g\")\n",
    "ax2.axvline(medianas_edb[1], color=\"g\")\n",
    "ax3.axvline(medianas_edb[2], color=\"g\")\n",
    "ax4.axvline(medianas_edb[3], color=\"g\")\n",
    "\n",
    "plt.show()"
   ]
  }
 ],
 "metadata": {
  "kernelspec": {
   "display_name": "Python 3",
   "language": "python",
   "name": "python3"
  },
  "language_info": {
   "codemirror_mode": {
    "name": "ipython",
    "version": 3
   },
   "file_extension": ".py",
   "mimetype": "text/x-python",
   "name": "python",
   "nbconvert_exporter": "python",
   "pygments_lexer": "ipython3",
   "version": "3.6.2"
  }
 },
 "nbformat": 4,
 "nbformat_minor": 2
}
